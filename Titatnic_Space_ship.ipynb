{
 "cells": [
  {
   "cell_type": "code",
   "execution_count": 1,
   "id": "23212296",
   "metadata": {},
   "outputs": [],
   "source": [
    "import pandas as pd\n",
    "import numpy as np\n",
    "from sklearn.preprocessing import LabelEncoder\n",
    "from sklearn.preprocessing import MinMaxScaler\n",
    "from sklearn.preprocessing import LabelBinarizer\n",
    "from sklearn.preprocessing import OneHotEncoder"
   ]
  },
  {
   "cell_type": "code",
   "execution_count": 2,
   "id": "c68f38d5",
   "metadata": {},
   "outputs": [],
   "source": [
    "scaller=MinMaxScaler(feature_range=(0,1))\n",
    "enocder=LabelEncoder()\n",
    "onehote_encoder=OneHotEncoder()"
   ]
  },
  {
   "cell_type": "code",
   "execution_count": 3,
   "id": "19846ed5",
   "metadata": {},
   "outputs": [
    {
     "data": {
      "text/plain": "  PassengerId HomePlanet CryoSleep  Cabin  Destination   Age    VIP  \\\n0     0001_01     Europa     False  B/0/P  TRAPPIST-1e  39.0  False   \n1     0002_01      Earth     False  F/0/S  TRAPPIST-1e  24.0  False   \n2     0003_01     Europa     False  A/0/S  TRAPPIST-1e  58.0   True   \n\n   RoomService  FoodCourt  ShoppingMall     Spa  VRDeck             Name  \\\n0          0.0        0.0           0.0     0.0     0.0  Maham Ofracculy   \n1        109.0        9.0          25.0   549.0    44.0     Juanna Vines   \n2         43.0     3576.0           0.0  6715.0    49.0    Altark Susent   \n\n   Transported  \n0        False  \n1         True  \n2        False  ",
      "text/html": "<div>\n<style scoped>\n    .dataframe tbody tr th:only-of-type {\n        vertical-align: middle;\n    }\n\n    .dataframe tbody tr th {\n        vertical-align: top;\n    }\n\n    .dataframe thead th {\n        text-align: right;\n    }\n</style>\n<table border=\"1\" class=\"dataframe\">\n  <thead>\n    <tr style=\"text-align: right;\">\n      <th></th>\n      <th>PassengerId</th>\n      <th>HomePlanet</th>\n      <th>CryoSleep</th>\n      <th>Cabin</th>\n      <th>Destination</th>\n      <th>Age</th>\n      <th>VIP</th>\n      <th>RoomService</th>\n      <th>FoodCourt</th>\n      <th>ShoppingMall</th>\n      <th>Spa</th>\n      <th>VRDeck</th>\n      <th>Name</th>\n      <th>Transported</th>\n    </tr>\n  </thead>\n  <tbody>\n    <tr>\n      <th>0</th>\n      <td>0001_01</td>\n      <td>Europa</td>\n      <td>False</td>\n      <td>B/0/P</td>\n      <td>TRAPPIST-1e</td>\n      <td>39.0</td>\n      <td>False</td>\n      <td>0.0</td>\n      <td>0.0</td>\n      <td>0.0</td>\n      <td>0.0</td>\n      <td>0.0</td>\n      <td>Maham Ofracculy</td>\n      <td>False</td>\n    </tr>\n    <tr>\n      <th>1</th>\n      <td>0002_01</td>\n      <td>Earth</td>\n      <td>False</td>\n      <td>F/0/S</td>\n      <td>TRAPPIST-1e</td>\n      <td>24.0</td>\n      <td>False</td>\n      <td>109.0</td>\n      <td>9.0</td>\n      <td>25.0</td>\n      <td>549.0</td>\n      <td>44.0</td>\n      <td>Juanna Vines</td>\n      <td>True</td>\n    </tr>\n    <tr>\n      <th>2</th>\n      <td>0003_01</td>\n      <td>Europa</td>\n      <td>False</td>\n      <td>A/0/S</td>\n      <td>TRAPPIST-1e</td>\n      <td>58.0</td>\n      <td>True</td>\n      <td>43.0</td>\n      <td>3576.0</td>\n      <td>0.0</td>\n      <td>6715.0</td>\n      <td>49.0</td>\n      <td>Altark Susent</td>\n      <td>False</td>\n    </tr>\n  </tbody>\n</table>\n</div>"
     },
     "execution_count": 3,
     "metadata": {},
     "output_type": "execute_result"
    }
   ],
   "source": [
    "data=pd.read_csv(\"/home/amal/Datasets/train.csv\").dropna()\n",
    "data.head(3)"
   ]
  },
  {
   "cell_type": "code",
   "execution_count": 4,
   "id": "9dc53c97",
   "metadata": {},
   "outputs": [
    {
     "name": "stdout",
     "output_type": "stream",
     "text": [
      "PassengerId     0\n",
      "HomePlanet      0\n",
      "CryoSleep       0\n",
      "Cabin           0\n",
      "Destination     0\n",
      "Age             0\n",
      "VIP             0\n",
      "RoomService     0\n",
      "FoodCourt       0\n",
      "ShoppingMall    0\n",
      "Spa             0\n",
      "VRDeck          0\n",
      "Name            0\n",
      "Transported     0\n",
      "dtype: int64\n",
      "missing values is: 0.0\n"
     ]
    }
   ],
   "source": [
    "missing_value_count=data.isnull().sum()\n",
    "print(missing_value_count)\n",
    "total_cells=np.product(data.shape)\n",
    "total_missing=missing_value_count.sum()\n",
    "percentage_missing=(total_missing/total_cells)*100\n",
    "print('missing values is:',percentage_missing)"
   ]
  },
  {
   "cell_type": "code",
   "execution_count": 5,
   "id": "ca31c01d",
   "metadata": {
    "scrolled": true
   },
   "outputs": [
    {
     "name": "stdout",
     "output_type": "stream",
     "text": [
      "PassengerId     9280_02\n",
      "RoomService      9920.0\n",
      "Age                79.0\n",
      "FoodCourt       29813.0\n",
      "ShoppingMall    12253.0\n",
      "VRDeck          20336.0\n",
      "dtype: object\n",
      "PassengerId     1.0\n",
      "RoomService     1.0\n",
      "Age             1.0\n",
      "FoodCourt       1.0\n",
      "ShoppingMall    1.0\n",
      "VRDeck          1.0\n",
      "dtype: float64\n",
      "PassengerId     0001_01\n",
      "RoomService         0.0\n",
      "Age                 0.0\n",
      "FoodCourt           0.0\n",
      "ShoppingMall        0.0\n",
      "VRDeck              0.0\n",
      "dtype: object\n",
      "PassengerId     0.0\n",
      "RoomService     0.0\n",
      "Age             0.0\n",
      "FoodCourt       0.0\n",
      "ShoppingMall    0.0\n",
      "VRDeck          0.0\n",
      "dtype: float64\n"
     ]
    }
   ],
   "source": [
    "col=data[['PassengerId','RoomService','Age','FoodCourt','ShoppingMall','VRDeck']]\n",
    "scaled_cols=scaller.fit_transform(col)\n",
    "scaled_cols = pd.DataFrame(scaled_cols, columns = col.columns)\n",
    "print(col.max())\n",
    "print(scaled_cols.max())\n",
    "print(col.min())\n",
    "print(scaled_cols.min())"
   ]
  },
  {
   "cell_type": "code",
   "execution_count": 6,
   "id": "f5bb8d0c",
   "metadata": {},
   "outputs": [],
   "source": [
    "tex_col=data[[\"HomePlanet\",\"CryoSleep\",\"Cabin\",\"VIP\",\"Transported\"]]"
   ]
  },
  {
   "cell_type": "code",
   "execution_count": 7,
   "id": "f101748c",
   "metadata": {},
   "outputs": [],
   "source": [
    "tex_col=pd.get_dummies(data[[\"HomePlanet\",\"VIP\",\"Transported\"]])"
   ]
  },
  {
   "cell_type": "code",
   "execution_count": 8,
   "id": "910e6d9d",
   "metadata": {},
   "outputs": [
    {
     "data": {
      "text/plain": "      Transported  HomePlanet_Earth  HomePlanet_Europa  HomePlanet_Mars  \\\n0           False                 0                  1                0   \n1            True                 1                  0                0   \n2           False                 0                  1                0   \n3           False                 0                  1                0   \n4            True                 1                  0                0   \n...           ...               ...                ...              ...   \n8688        False                 0                  1                0   \n8689        False                 1                  0                0   \n8690         True                 1                  0                0   \n8691        False                 0                  1                0   \n8692         True                 0                  1                0   \n\n      VIP_False  VIP_True  \n0             1         0  \n1             1         0  \n2             0         1  \n3             1         0  \n4             1         0  \n...         ...       ...  \n8688          0         1  \n8689          1         0  \n8690          1         0  \n8691          1         0  \n8692          1         0  \n\n[6606 rows x 6 columns]",
      "text/html": "<div>\n<style scoped>\n    .dataframe tbody tr th:only-of-type {\n        vertical-align: middle;\n    }\n\n    .dataframe tbody tr th {\n        vertical-align: top;\n    }\n\n    .dataframe thead th {\n        text-align: right;\n    }\n</style>\n<table border=\"1\" class=\"dataframe\">\n  <thead>\n    <tr style=\"text-align: right;\">\n      <th></th>\n      <th>Transported</th>\n      <th>HomePlanet_Earth</th>\n      <th>HomePlanet_Europa</th>\n      <th>HomePlanet_Mars</th>\n      <th>VIP_False</th>\n      <th>VIP_True</th>\n    </tr>\n  </thead>\n  <tbody>\n    <tr>\n      <th>0</th>\n      <td>False</td>\n      <td>0</td>\n      <td>1</td>\n      <td>0</td>\n      <td>1</td>\n      <td>0</td>\n    </tr>\n    <tr>\n      <th>1</th>\n      <td>True</td>\n      <td>1</td>\n      <td>0</td>\n      <td>0</td>\n      <td>1</td>\n      <td>0</td>\n    </tr>\n    <tr>\n      <th>2</th>\n      <td>False</td>\n      <td>0</td>\n      <td>1</td>\n      <td>0</td>\n      <td>0</td>\n      <td>1</td>\n    </tr>\n    <tr>\n      <th>3</th>\n      <td>False</td>\n      <td>0</td>\n      <td>1</td>\n      <td>0</td>\n      <td>1</td>\n      <td>0</td>\n    </tr>\n    <tr>\n      <th>4</th>\n      <td>True</td>\n      <td>1</td>\n      <td>0</td>\n      <td>0</td>\n      <td>1</td>\n      <td>0</td>\n    </tr>\n    <tr>\n      <th>...</th>\n      <td>...</td>\n      <td>...</td>\n      <td>...</td>\n      <td>...</td>\n      <td>...</td>\n      <td>...</td>\n    </tr>\n    <tr>\n      <th>8688</th>\n      <td>False</td>\n      <td>0</td>\n      <td>1</td>\n      <td>0</td>\n      <td>0</td>\n      <td>1</td>\n    </tr>\n    <tr>\n      <th>8689</th>\n      <td>False</td>\n      <td>1</td>\n      <td>0</td>\n      <td>0</td>\n      <td>1</td>\n      <td>0</td>\n    </tr>\n    <tr>\n      <th>8690</th>\n      <td>True</td>\n      <td>1</td>\n      <td>0</td>\n      <td>0</td>\n      <td>1</td>\n      <td>0</td>\n    </tr>\n    <tr>\n      <th>8691</th>\n      <td>False</td>\n      <td>0</td>\n      <td>1</td>\n      <td>0</td>\n      <td>1</td>\n      <td>0</td>\n    </tr>\n    <tr>\n      <th>8692</th>\n      <td>True</td>\n      <td>0</td>\n      <td>1</td>\n      <td>0</td>\n      <td>1</td>\n      <td>0</td>\n    </tr>\n  </tbody>\n</table>\n<p>6606 rows × 6 columns</p>\n</div>"
     },
     "execution_count": 8,
     "metadata": {},
     "output_type": "execute_result"
    }
   ],
   "source": [
    "tex_col"
   ]
  }
 ],
 "metadata": {
  "kernelspec": {
   "display_name": "Python 3 (ipykernel)",
   "language": "python",
   "name": "python3"
  },
  "language_info": {
   "codemirror_mode": {
    "name": "ipython",
    "version": 3
   },
   "file_extension": ".py",
   "mimetype": "text/x-python",
   "name": "python",
   "nbconvert_exporter": "python",
   "pygments_lexer": "ipython3",
   "version": "3.9.12"
  }
 },
 "nbformat": 4,
 "nbformat_minor": 5
}
